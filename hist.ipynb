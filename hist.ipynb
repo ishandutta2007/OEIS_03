{
 "cells": [
  {
   "cell_type": "markdown",
   "metadata": {},
   "source": [
    "## sequence_list.csvの作成"
   ]
  },
  {
   "cell_type": "code",
   "execution_count": 1,
   "metadata": {},
   "outputs": [
    {
     "name": "stdout",
     "output_type": "stream",
     "text": [
      "\n",
      "STDOUT: \n",
      "STDERR: \n"
     ]
    }
   ],
   "source": [
    "import subprocess\n",
    "\n",
    "result = subprocess.run([\"ruby\", \"create_list.rb\"], capture_output=True, text=True)\n",
    "print(result.stdout)  # Rubyスクリプトの標準出力を表示\n",
    "\n",
    "# エラー出力を表示\n",
    "print(\"STDOUT:\", result.stdout)\n",
    "print(\"STDERR:\", result.stderr)"
   ]
  },
  {
   "cell_type": "code",
   "execution_count": 2,
   "metadata": {},
   "outputs": [],
   "source": [
    "import pandas as pd\n",
    "\n",
    "data_file = 'sequence_list.csv'"
   ]
  },
  {
   "cell_type": "markdown",
   "metadata": {},
   "source": [
    "# フォルダ毎の数列の数"
   ]
  },
  {
   "cell_type": "code",
   "execution_count": 3,
   "metadata": {},
   "outputs": [
    {
     "data": {
      "text/html": [
       "<div>\n",
       "<style scoped>\n",
       "    .dataframe tbody tr th:only-of-type {\n",
       "        vertical-align: middle;\n",
       "    }\n",
       "\n",
       "    .dataframe tbody tr th {\n",
       "        vertical-align: top;\n",
       "    }\n",
       "\n",
       "    .dataframe thead th {\n",
       "        text-align: right;\n",
       "    }\n",
       "</style>\n",
       "<table border=\"1\" class=\"dataframe\">\n",
       "  <thead>\n",
       "    <tr style=\"text-align: right;\">\n",
       "      <th></th>\n",
       "      <th>seq_no</th>\n",
       "    </tr>\n",
       "  </thead>\n",
       "  <tbody>\n",
       "    <tr>\n",
       "      <th>0</th>\n",
       "      <td>300</td>\n",
       "    </tr>\n",
       "    <tr>\n",
       "      <th>1</th>\n",
       "      <td>300</td>\n",
       "    </tr>\n",
       "    <tr>\n",
       "      <th>2</th>\n",
       "      <td>300</td>\n",
       "    </tr>\n",
       "    <tr>\n",
       "      <th>3</th>\n",
       "      <td>300</td>\n",
       "    </tr>\n",
       "    <tr>\n",
       "      <th>4</th>\n",
       "      <td>300</td>\n",
       "    </tr>\n",
       "    <tr>\n",
       "      <th>...</th>\n",
       "      <td>...</td>\n",
       "    </tr>\n",
       "    <tr>\n",
       "      <th>8791</th>\n",
       "      <td>389</td>\n",
       "    </tr>\n",
       "    <tr>\n",
       "      <th>8792</th>\n",
       "      <td>389</td>\n",
       "    </tr>\n",
       "    <tr>\n",
       "      <th>8793</th>\n",
       "      <td>389</td>\n",
       "    </tr>\n",
       "    <tr>\n",
       "      <th>8794</th>\n",
       "      <td>389</td>\n",
       "    </tr>\n",
       "    <tr>\n",
       "      <th>8795</th>\n",
       "      <td>389</td>\n",
       "    </tr>\n",
       "  </tbody>\n",
       "</table>\n",
       "<p>8796 rows × 1 columns</p>\n",
       "</div>"
      ],
      "text/plain": [
       "      seq_no\n",
       "0        300\n",
       "1        300\n",
       "2        300\n",
       "3        300\n",
       "4        300\n",
       "...      ...\n",
       "8791     389\n",
       "8792     389\n",
       "8793     389\n",
       "8794     389\n",
       "8795     389\n",
       "\n",
       "[8796 rows x 1 columns]"
      ]
     },
     "execution_count": 3,
     "metadata": {},
     "output_type": "execute_result"
    }
   ],
   "source": [
    "df = pd.read_csv(data_file)\n",
    "df.columns = ['no', 'seq_no']\n",
    "df = df[['seq_no']]\n",
    "df['seq_no'] = df['seq_no'] // 1000\n",
    "df"
   ]
  },
  {
   "cell_type": "code",
   "execution_count": 4,
   "metadata": {},
   "outputs": [
    {
     "data": {
      "text/plain": [
       "<Axes: ylabel='Frequency'>"
      ]
     },
     "execution_count": 4,
     "metadata": {},
     "output_type": "execute_result"
    },
    {
     "data": {
      "image/png": "[encoded data removed]",
      "text/plain": [
       "<Figure size 640x480 with 1 Axes>"
      ]
     },
     "metadata": {},
     "output_type": "display_data"
    }
   ],
   "source": [
    "# show_rangeの開始に注意\n",
    "show_range = list(range(299, 399+1))\n",
    "df.plot.hist(bins=show_range)"
   ]
  },
  {
   "cell_type": "code",
   "execution_count": 5,
   "metadata": {},
   "outputs": [
    {
     "name": "stdout",
     "output_type": "stream",
     "text": [
      "度数分布表\n",
      "\n",
      "300 : 41, 301 : 30, 302 : 24, 303 : 73, 304 : 38, 305 : 59, 306 : 64, 307 : 70, 308 : 59, 309 : 80, \n",
      "310 : 0, 311 : 0, 312 : 0, 313 : 0, 314 : 0, 315 : 0, 316 : 39, 317 : 20, 318 : 73, 319 : 81, \n",
      "320 : 104, 321 : 156, 322 : 76, 323 : 29, 324 : 17, 325 : 14, 326 : 7, 327 : 34, 328 : 21, 329 : 11, \n",
      "330 : 17, 331 : 26, 332 : 27, 333 : 55, 334 : 22, 335 : 25, 336 : 71, 337 : 31, 338 : 48, 339 : 55, \n",
      "340 : 26, 341 : 53, 342 : 71, 343 : 81, 344 : 91, 345 : 52, 346 : 86, 347 : 64, 348 : 48, 349 : 138, \n",
      "350 : 74, 351 : 138, 352 : 113, 353 : 101, 354 : 137, 355 : 165, 356 : 174, 357 : 153, 358 : 103, 359 : 94, \n",
      "360 : 184, 361 : 144, 362 : 193, 363 : 246, 364 : 204, 365 : 242, 366 : 163, 367 : 206, 368 : 175, 369 : 160, \n",
      "370 : 188, 371 : 263, 372 : 191, 373 : 183, 374 : 80, 375 : 208, 376 : 141, 377 : 210, 378 : 104, 379 : 144, \n",
      "380 : 156, 381 : 237, 382 : 163, 383 : 192, 384 : 191, 385 : 194, 386 : 156, 387 : 193, 388 : 51, 389 : 75, \n",
      "390 : 0, 391 : 0, 392 : 0, 393 : 0, 394 : 0, 395 : 0, 396 : 0, 397 : 0, 398 : 0, 399 : 0, \n",
      "合計 : 100\n"
     ]
    }
   ],
   "source": [
    "# ヒストグラムの度数分布表を作成\n",
    "hist = pd.cut(df['seq_no'], bins=show_range).value_counts().sort_index()\n",
    "\n",
    "# 度数分布表を表示（ただし、度数が0は除く）\n",
    "print('度数分布表')\n",
    "\n",
    "cnt = 0\n",
    "for i in hist.index:\n",
    "    cnt += 1\n",
    "    if i.right % 10 == 0:\n",
    "        print()\n",
    "    print(f'{i.right} : {hist[i]}', end=', ')\n",
    "\n",
    "print()\n",
    "print(f'合計 : {cnt}')"
   ]
  },
  {
   "cell_type": "markdown",
   "metadata": {},
   "source": [
    "# 偏り"
   ]
  },
  {
   "cell_type": "code",
   "execution_count": 6,
   "metadata": {},
   "outputs": [
    {
     "data": {
      "text/html": [
       "<div>\n",
       "<style scoped>\n",
       "    .dataframe tbody tr th:only-of-type {\n",
       "        vertical-align: middle;\n",
       "    }\n",
       "\n",
       "    .dataframe tbody tr th {\n",
       "        vertical-align: top;\n",
       "    }\n",
       "\n",
       "    .dataframe thead th {\n",
       "        text-align: right;\n",
       "    }\n",
       "</style>\n",
       "<table border=\"1\" class=\"dataframe\">\n",
       "  <thead>\n",
       "    <tr style=\"text-align: right;\">\n",
       "      <th></th>\n",
       "      <th>seq_no</th>\n",
       "    </tr>\n",
       "  </thead>\n",
       "  <tbody>\n",
       "    <tr>\n",
       "      <th>0</th>\n",
       "      <td>11</td>\n",
       "    </tr>\n",
       "    <tr>\n",
       "      <th>1</th>\n",
       "      <td>25</td>\n",
       "    </tr>\n",
       "    <tr>\n",
       "      <th>2</th>\n",
       "      <td>48</td>\n",
       "    </tr>\n",
       "    <tr>\n",
       "      <th>3</th>\n",
       "      <td>52</td>\n",
       "    </tr>\n",
       "    <tr>\n",
       "      <th>4</th>\n",
       "      <td>53</td>\n",
       "    </tr>\n",
       "    <tr>\n",
       "      <th>...</th>\n",
       "      <td>...</td>\n",
       "    </tr>\n",
       "    <tr>\n",
       "      <th>8791</th>\n",
       "      <td>39</td>\n",
       "    </tr>\n",
       "    <tr>\n",
       "      <th>8792</th>\n",
       "      <td>40</td>\n",
       "    </tr>\n",
       "    <tr>\n",
       "      <th>8793</th>\n",
       "      <td>41</td>\n",
       "    </tr>\n",
       "    <tr>\n",
       "      <th>8794</th>\n",
       "      <td>44</td>\n",
       "    </tr>\n",
       "    <tr>\n",
       "      <th>8795</th>\n",
       "      <td>45</td>\n",
       "    </tr>\n",
       "  </tbody>\n",
       "</table>\n",
       "<p>8796 rows × 1 columns</p>\n",
       "</div>"
      ],
      "text/plain": [
       "      seq_no\n",
       "0         11\n",
       "1         25\n",
       "2         48\n",
       "3         52\n",
       "4         53\n",
       "...      ...\n",
       "8791      39\n",
       "8792      40\n",
       "8793      41\n",
       "8794      44\n",
       "8795      45\n",
       "\n",
       "[8796 rows x 1 columns]"
      ]
     },
     "execution_count": 6,
     "metadata": {},
     "output_type": "execute_result"
    }
   ],
   "source": [
    "df = pd.read_csv(data_file)\n",
    "df.columns = ['no', 'seq_no']\n",
    "df = df[['seq_no']]\n",
    "df['seq_no'] = df['seq_no'] % 100\n",
    "df"
   ]
  },
  {
   "cell_type": "code",
   "execution_count": 7,
   "metadata": {},
   "outputs": [
    {
     "data": {
      "text/plain": [
       "<Axes: ylabel='Frequency'>"
      ]
     },
     "execution_count": 7,
     "metadata": {},
     "output_type": "execute_result"
    },
    {
     "data": {
      "image/png": "[encoded data removed]",
      "text/plain": [
       "<Figure size 640x480 with 1 Axes>"
      ]
     },
     "metadata": {},
     "output_type": "display_data"
    }
   ],
   "source": [
    "df.plot.hist(bins=100)"
   ]
  }
 ],
 "metadata": {
  "kernelspec": {
   "display_name": "base",
   "language": "python",
   "name": "python3"
  },
  "language_info": {
   "codemirror_mode": {
    "name": "ipython",
    "version": 3
   },
   "file_extension": ".py",
   "mimetype": "text/x-python",
   "name": "python",
   "nbconvert_exporter": "python",
   "pygments_lexer": "ipython3",
   "version": "3.11.8"
  },
  "orig_nbformat": 4
 },
 "nbformat": 4,
 "nbformat_minor": 2
}
